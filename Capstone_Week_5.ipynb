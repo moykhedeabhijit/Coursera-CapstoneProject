{
 "cells": [
  {
   "cell_type": "markdown",
   "metadata": {},
   "source": [
    "## IBM Applied Data Science Capstone Course by Coursera"
   ]
  },
  {
   "cell_type": "markdown",
   "metadata": {},
   "source": [
    "### Week 5 Final Report"
   ]
  },
  {
   "cell_type": "markdown",
   "metadata": {},
   "source": [
    "#### Opening a New Shopping Mall in Kuala Lumpur, Malaysia"
   ]
  },
  {
   "cell_type": "markdown",
   "metadata": {},
   "source": [
    "##### \n",
    "Build a dataframe of neighborhoods in Kuala Lumpur, Malaysia by web scraping the data from Wikipedia page.\n",
    "\n",
    "Get the geographical coordinates of the neighborhoods.\n",
    "\n",
    "Obtain the venue data for the neighborhoods from Foursquare API.\n",
    "\n",
    "Explore and cluster the neighborhoods.\n",
    "\n",
    "Select the best cluster to open a new shopping mall.\n"
   ]
  },
  {
   "cell_type": "markdown",
   "metadata": {},
   "source": [
    "### 1. Import libraries"
   ]
  },
  {
   "cell_type": "code",
   "execution_count": 41,
   "metadata": {},
   "outputs": [
    {
     "name": "stdout",
     "output_type": "stream",
     "text": [
      "Requirement already satisfied: geopy in /home/jupyterlab/conda/envs/python/lib/python3.6/site-packages (1.20.0)\n",
      "Requirement already satisfied: geographiclib<2,>=1.49 in /home/jupyterlab/conda/envs/python/lib/python3.6/site-packages (from geopy) (1.50)\n",
      "Note: you may need to restart the kernel to use updated packages.\n"
     ]
    }
   ],
   "source": [
    "pip install geopy"
   ]
  },
  {
   "cell_type": "code",
   "execution_count": 42,
   "metadata": {},
   "outputs": [
    {
     "name": "stdout",
     "output_type": "stream",
     "text": [
      "Requirement already satisfied: BeautifulSoup4 in /home/jupyterlab/conda/envs/python/lib/python3.6/site-packages (4.8.2)\n",
      "Requirement already satisfied: soupsieve>=1.2 in /home/jupyterlab/conda/envs/python/lib/python3.6/site-packages (from BeautifulSoup4) (1.9.5)\n",
      "Note: you may need to restart the kernel to use updated packages.\n"
     ]
    }
   ],
   "source": [
    "pip install BeautifulSoup4"
   ]
  },
  {
   "cell_type": "code",
   "execution_count": 43,
   "metadata": {},
   "outputs": [
    {
     "name": "stdout",
     "output_type": "stream",
     "text": [
      "Requirement already satisfied: geocoder in /home/jupyterlab/conda/envs/python/lib/python3.6/site-packages (1.38.1)\n",
      "Requirement already satisfied: ratelim in /home/jupyterlab/conda/envs/python/lib/python3.6/site-packages (from geocoder) (0.1.6)\n",
      "Requirement already satisfied: requests in /home/jupyterlab/conda/envs/python/lib/python3.6/site-packages (from geocoder) (2.22.0)\n",
      "Requirement already satisfied: future in /home/jupyterlab/conda/envs/python/lib/python3.6/site-packages (from geocoder) (0.18.2)\n",
      "Requirement already satisfied: six in /home/jupyterlab/conda/envs/python/lib/python3.6/site-packages (from geocoder) (1.13.0)\n",
      "Requirement already satisfied: click in /home/jupyterlab/conda/envs/python/lib/python3.6/site-packages (from geocoder) (7.0)\n",
      "Requirement already satisfied: decorator in /home/jupyterlab/conda/envs/python/lib/python3.6/site-packages (from ratelim->geocoder) (4.4.1)\n",
      "Requirement already satisfied: urllib3!=1.25.0,!=1.25.1,<1.26,>=1.21.1 in /home/jupyterlab/conda/envs/python/lib/python3.6/site-packages (from requests->geocoder) (1.25.7)\n",
      "Requirement already satisfied: chardet<3.1.0,>=3.0.2 in /home/jupyterlab/conda/envs/python/lib/python3.6/site-packages (from requests->geocoder) (3.0.4)\n",
      "Requirement already satisfied: idna<2.9,>=2.5 in /home/jupyterlab/conda/envs/python/lib/python3.6/site-packages (from requests->geocoder) (2.8)\n",
      "Requirement already satisfied: certifi>=2017.4.17 in /home/jupyterlab/conda/envs/python/lib/python3.6/site-packages (from requests->geocoder) (2019.9.11)\n",
      "Note: you may need to restart the kernel to use updated packages.\n"
     ]
    }
   ],
   "source": [
    "pip install geocoder"
   ]
  },
  {
   "cell_type": "code",
   "execution_count": 44,
   "metadata": {},
   "outputs": [
    {
     "name": "stdout",
     "output_type": "stream",
     "text": [
      "Libraries imported.\n"
     ]
    }
   ],
   "source": [
    "import numpy as np\n",
    "\n",
    "import pandas as pd # library for data analsysis\n",
    "pd.set_option(\"display.max_columns\", None)\n",
    "pd.set_option(\"display.max_rows\", None)\n",
    "\n",
    "import json\n",
    "\n",
    "from geopy.geocoders import Nominatim\n",
    "import geocoder\n",
    "\n",
    "import requests \n",
    "from bs4 import BeautifulSoup \n",
    "\n",
    "from pandas.io.json import json_normalize \n",
    "\n",
    "\n",
    "import matplotlib.cm as cm\n",
    "import matplotlib.colors as colors\n",
    "\n",
    "\n",
    "from sklearn.cluster import KMeans\n",
    "\n",
    "import folium \n",
    "\n",
    "print(\"Libraries imported.\")"
   ]
  },
  {
   "cell_type": "markdown",
   "metadata": {},
   "source": [
    "### 2. Scrap data from Wikipedia page into a DataFrame"
   ]
  },
  {
   "cell_type": "code",
   "execution_count": 45,
   "metadata": {},
   "outputs": [],
   "source": [
    "data = requests.get(\"https://en.wikipedia.org/wiki/Category:Suburbs_in_Kuala_Lumpur\").text"
   ]
  },
  {
   "cell_type": "code",
   "execution_count": 46,
   "metadata": {},
   "outputs": [],
   "source": [
    "soup = BeautifulSoup(data, 'html.parser')"
   ]
  },
  {
   "cell_type": "code",
   "execution_count": 47,
   "metadata": {},
   "outputs": [],
   "source": [
    "neighborhoodList = []"
   ]
  },
  {
   "cell_type": "code",
   "execution_count": 48,
   "metadata": {},
   "outputs": [],
   "source": [
    "for row in soup.find_all(\"div\", class_=\"mw-category\")[0].findAll(\"li\"):\n",
    "    neighborhoodList.append(row.text)"
   ]
  },
  {
   "cell_type": "code",
   "execution_count": 49,
   "metadata": {},
   "outputs": [
    {
     "data": {
      "text/html": [
       "<div>\n",
       "<style scoped>\n",
       "    .dataframe tbody tr th:only-of-type {\n",
       "        vertical-align: middle;\n",
       "    }\n",
       "\n",
       "    .dataframe tbody tr th {\n",
       "        vertical-align: top;\n",
       "    }\n",
       "\n",
       "    .dataframe thead th {\n",
       "        text-align: right;\n",
       "    }\n",
       "</style>\n",
       "<table border=\"1\" class=\"dataframe\">\n",
       "  <thead>\n",
       "    <tr style=\"text-align: right;\">\n",
       "      <th></th>\n",
       "      <th>Neighborhood</th>\n",
       "    </tr>\n",
       "  </thead>\n",
       "  <tbody>\n",
       "    <tr>\n",
       "      <th>0</th>\n",
       "      <td>Alam Damai</td>\n",
       "    </tr>\n",
       "    <tr>\n",
       "      <th>1</th>\n",
       "      <td>Ampang, Kuala Lumpur</td>\n",
       "    </tr>\n",
       "    <tr>\n",
       "      <th>2</th>\n",
       "      <td>Bandar Menjalara</td>\n",
       "    </tr>\n",
       "    <tr>\n",
       "      <th>3</th>\n",
       "      <td>Bandar Sri Permaisuri</td>\n",
       "    </tr>\n",
       "    <tr>\n",
       "      <th>4</th>\n",
       "      <td>Bandar Tasik Selatan</td>\n",
       "    </tr>\n",
       "  </tbody>\n",
       "</table>\n",
       "</div>"
      ],
      "text/plain": [
       "            Neighborhood\n",
       "0             Alam Damai\n",
       "1   Ampang, Kuala Lumpur\n",
       "2       Bandar Menjalara\n",
       "3  Bandar Sri Permaisuri\n",
       "4   Bandar Tasik Selatan"
      ]
     },
     "execution_count": 49,
     "metadata": {},
     "output_type": "execute_result"
    }
   ],
   "source": [
    "kl_df = pd.DataFrame({\"Neighborhood\": neighborhoodList})\n",
    "\n",
    "kl_df.head()"
   ]
  },
  {
   "cell_type": "code",
   "execution_count": 50,
   "metadata": {},
   "outputs": [
    {
     "data": {
      "text/plain": [
       "(71, 1)"
      ]
     },
     "execution_count": 50,
     "metadata": {},
     "output_type": "execute_result"
    }
   ],
   "source": [
    "kl_df.shape"
   ]
  },
  {
   "cell_type": "markdown",
   "metadata": {},
   "source": [
    "### 3. Get the geographical coordinates"
   ]
  },
  {
   "cell_type": "code",
   "execution_count": 51,
   "metadata": {},
   "outputs": [],
   "source": [
    "def get_latlng(neighborhood):\n",
    "    # initialize your variable to None\n",
    "    lat_lng_coords = None\n",
    "    # loop until you get the coordinates\n",
    "    while(lat_lng_coords is None):\n",
    "        g = geocoder.arcgis('{}, Kuala Lumpur, Malaysia'.format(neighborhood))\n",
    "        lat_lng_coords = g.latlng\n",
    "    return lat_lng_coords"
   ]
  },
  {
   "cell_type": "code",
   "execution_count": 52,
   "metadata": {},
   "outputs": [
    {
     "name": "stderr",
     "output_type": "stream",
     "text": [
      "Status code Unknown from https://geocode.arcgis.com/arcgis/rest/services/World/GeocodeServer/find: ERROR - HTTPSConnectionPool(host='geocode.arcgis.com', port=443): Read timed out. (read timeout=5.0)\n"
     ]
    }
   ],
   "source": [
    "coords = [ get_latlng(neighborhood) for neighborhood in kl_df[\"Neighborhood\"].tolist() ]"
   ]
  },
  {
   "cell_type": "code",
   "execution_count": 53,
   "metadata": {},
   "outputs": [
    {
     "data": {
      "text/plain": [
       "[[3.0576900000000364, 101.74388000000005],\n",
       " [3.1484921138724, 101.69672653590337],\n",
       " [3.1903500000000236, 101.62545000000006],\n",
       " [3.1039100000000417, 101.71226000000007],\n",
       " [3.072750000000042, 101.71461000000005],\n",
       " [3.08280000000002, 101.72281000000004],\n",
       " [3.1292000000000257, 101.67844000000008],\n",
       " [3.1347800000000348, 101.67262000000005],\n",
       " [3.111020000000053, 101.66283000000004],\n",
       " [3.09898000000004, 101.73499000000004],\n",
       " [3.1357600000000616, 101.70837000000006],\n",
       " [3.12916000000007, 101.68406000000004],\n",
       " [3.147770000000037, 101.70855000000006],\n",
       " [3.057800000000043, 101.68965000000009],\n",
       " [3.1434800000000678, 101.64433000000008],\n",
       " [3.152017197420035, 101.70102760046613],\n",
       " [3.129290000000026, 101.69892000000004],\n",
       " [3.17381000000006, 101.68276000000009],\n",
       " [3.061870000000056, 101.74675000000008],\n",
       " [3.163590000000056, 101.69811000000004],\n",
       " [3.147980000000075, 101.66798000000006],\n",
       " [3.1387586696676304, 101.6840455304707],\n",
       " [3.1387586696676304, 101.6840455304707],\n",
       " [3.156685175474611, 101.69807679810161],\n",
       " [3.08331000000004, 101.70438000000007],\n",
       " [3.1363700000000563, 101.68564000000003],\n",
       " [3.201630000000023, 101.72107000000005],\n",
       " [3.132903045551973, 101.72467816744994],\n",
       " [3.180086208350838, 101.67785384135225],\n",
       " [3.209500000000048, 101.65874000000008],\n",
       " [3.165460000000053, 101.71028000000007],\n",
       " [3.166400000000067, 101.73046000000005],\n",
       " [3.2094300000000544, 101.69318000000004],\n",
       " [3.2175000000000296, 101.63763000000006],\n",
       " [3.117140000000063, 101.67388000000005],\n",
       " [3.0907400000000393, 101.67733000000004],\n",
       " [3.1212018655338443, 101.66389906168357],\n",
       " [3.147890000000075, 101.69405000000006],\n",
       " [3.1592600000000743, 101.69834000000009],\n",
       " [3.147890000000075, 101.69405000000006],\n",
       " [3.165320000000065, 101.65243000000004],\n",
       " [3.094760000000065, 101.66747000000004],\n",
       " [3.133540000000039, 101.71307000000007],\n",
       " [3.1258432855470684, 101.71850881971983],\n",
       " [3.0810200000000236, 101.69724000000008],\n",
       " [3.186390000000074, 101.66810000000004],\n",
       " [3.1799164410297633, 101.72143714871991],\n",
       " [3.1874305003813963, 101.69145318264098],\n",
       " [3.188160000000039, 101.70415000000008],\n",
       " [3.191802843003158, 101.74007037312064],\n",
       " [3.124580000000037, 101.73597000000007],\n",
       " [3.162200000000041, 101.65036000000003],\n",
       " [3.0726000000000226, 101.68252000000007],\n",
       " [3.0499700000000303, 101.70603000000006],\n",
       " [3.2006600000000276, 101.63337000000007],\n",
       " [3.0826300000000515, 101.74671000000006],\n",
       " [3.0826900000000705, 101.73689000000007],\n",
       " [3.1029700000000275, 101.68471000000005],\n",
       " [3.21216000000004, 101.71540000000005],\n",
       " [3.069080000000042, 101.74287000000004],\n",
       " [3.223570000000052, 101.72399000000007],\n",
       " [3.093590000000063, 101.72837000000004],\n",
       " [3.2100497379521316, 101.63450794879562],\n",
       " [3.1936000000000604, 101.70598000000007],\n",
       " [3.1900700000000484, 101.65293000000008],\n",
       " [3.0870700000000397, 101.73681000000005],\n",
       " [3.1528300000000513, 101.62271000000004],\n",
       " [3.157700000000034, 101.72452000000004],\n",
       " [3.22240000000005, 101.67173000000008],\n",
       " [3.1806700000000205, 101.70322000000004],\n",
       " [3.2039100000000644, 101.73719000000006]]"
      ]
     },
     "execution_count": 53,
     "metadata": {},
     "output_type": "execute_result"
    }
   ],
   "source": [
    "coords"
   ]
  },
  {
   "cell_type": "code",
   "execution_count": 54,
   "metadata": {},
   "outputs": [],
   "source": [
    "df_coords = pd.DataFrame(coords, columns=['Latitude', 'Longitude'])"
   ]
  },
  {
   "cell_type": "code",
   "execution_count": 55,
   "metadata": {},
   "outputs": [],
   "source": [
    "kl_df['Latitude'] = df_coords['Latitude']\n",
    "kl_df['Longitude'] = df_coords['Longitude']"
   ]
  },
  {
   "cell_type": "code",
   "execution_count": 56,
   "metadata": {},
   "outputs": [
    {
     "name": "stdout",
     "output_type": "stream",
     "text": [
      "(71, 3)\n"
     ]
    },
    {
     "data": {
      "text/html": [
       "<div>\n",
       "<style scoped>\n",
       "    .dataframe tbody tr th:only-of-type {\n",
       "        vertical-align: middle;\n",
       "    }\n",
       "\n",
       "    .dataframe tbody tr th {\n",
       "        vertical-align: top;\n",
       "    }\n",
       "\n",
       "    .dataframe thead th {\n",
       "        text-align: right;\n",
       "    }\n",
       "</style>\n",
       "<table border=\"1\" class=\"dataframe\">\n",
       "  <thead>\n",
       "    <tr style=\"text-align: right;\">\n",
       "      <th></th>\n",
       "      <th>Neighborhood</th>\n",
       "      <th>Latitude</th>\n",
       "      <th>Longitude</th>\n",
       "    </tr>\n",
       "  </thead>\n",
       "  <tbody>\n",
       "    <tr>\n",
       "      <th>0</th>\n",
       "      <td>Alam Damai</td>\n",
       "      <td>3.057690</td>\n",
       "      <td>101.743880</td>\n",
       "    </tr>\n",
       "    <tr>\n",
       "      <th>1</th>\n",
       "      <td>Ampang, Kuala Lumpur</td>\n",
       "      <td>3.148492</td>\n",
       "      <td>101.696727</td>\n",
       "    </tr>\n",
       "    <tr>\n",
       "      <th>2</th>\n",
       "      <td>Bandar Menjalara</td>\n",
       "      <td>3.190350</td>\n",
       "      <td>101.625450</td>\n",
       "    </tr>\n",
       "    <tr>\n",
       "      <th>3</th>\n",
       "      <td>Bandar Sri Permaisuri</td>\n",
       "      <td>3.103910</td>\n",
       "      <td>101.712260</td>\n",
       "    </tr>\n",
       "    <tr>\n",
       "      <th>4</th>\n",
       "      <td>Bandar Tasik Selatan</td>\n",
       "      <td>3.072750</td>\n",
       "      <td>101.714610</td>\n",
       "    </tr>\n",
       "    <tr>\n",
       "      <th>5</th>\n",
       "      <td>Bandar Tun Razak</td>\n",
       "      <td>3.082800</td>\n",
       "      <td>101.722810</td>\n",
       "    </tr>\n",
       "    <tr>\n",
       "      <th>6</th>\n",
       "      <td>Bangsar</td>\n",
       "      <td>3.129200</td>\n",
       "      <td>101.678440</td>\n",
       "    </tr>\n",
       "    <tr>\n",
       "      <th>7</th>\n",
       "      <td>Bangsar Park</td>\n",
       "      <td>3.134780</td>\n",
       "      <td>101.672620</td>\n",
       "    </tr>\n",
       "    <tr>\n",
       "      <th>8</th>\n",
       "      <td>Bangsar South</td>\n",
       "      <td>3.111020</td>\n",
       "      <td>101.662830</td>\n",
       "    </tr>\n",
       "    <tr>\n",
       "      <th>9</th>\n",
       "      <td>Batu 11 Cheras</td>\n",
       "      <td>3.098980</td>\n",
       "      <td>101.734990</td>\n",
       "    </tr>\n",
       "    <tr>\n",
       "      <th>10</th>\n",
       "      <td>Batu, Kuala Lumpur</td>\n",
       "      <td>3.135760</td>\n",
       "      <td>101.708370</td>\n",
       "    </tr>\n",
       "    <tr>\n",
       "      <th>11</th>\n",
       "      <td>Brickfields</td>\n",
       "      <td>3.129160</td>\n",
       "      <td>101.684060</td>\n",
       "    </tr>\n",
       "    <tr>\n",
       "      <th>12</th>\n",
       "      <td>Bukit Bintang</td>\n",
       "      <td>3.147770</td>\n",
       "      <td>101.708550</td>\n",
       "    </tr>\n",
       "    <tr>\n",
       "      <th>13</th>\n",
       "      <td>Bukit Jalil</td>\n",
       "      <td>3.057800</td>\n",
       "      <td>101.689650</td>\n",
       "    </tr>\n",
       "    <tr>\n",
       "      <th>14</th>\n",
       "      <td>Bukit Kiara</td>\n",
       "      <td>3.143480</td>\n",
       "      <td>101.644330</td>\n",
       "    </tr>\n",
       "    <tr>\n",
       "      <th>15</th>\n",
       "      <td>Bukit Nanas</td>\n",
       "      <td>3.152017</td>\n",
       "      <td>101.701028</td>\n",
       "    </tr>\n",
       "    <tr>\n",
       "      <th>16</th>\n",
       "      <td>Bukit Petaling</td>\n",
       "      <td>3.129290</td>\n",
       "      <td>101.698920</td>\n",
       "    </tr>\n",
       "    <tr>\n",
       "      <th>17</th>\n",
       "      <td>Bukit Tunku</td>\n",
       "      <td>3.173810</td>\n",
       "      <td>101.682760</td>\n",
       "    </tr>\n",
       "    <tr>\n",
       "      <th>18</th>\n",
       "      <td>Cheras, Kuala Lumpur</td>\n",
       "      <td>3.061870</td>\n",
       "      <td>101.746750</td>\n",
       "    </tr>\n",
       "    <tr>\n",
       "      <th>19</th>\n",
       "      <td>Chow Kit</td>\n",
       "      <td>3.163590</td>\n",
       "      <td>101.698110</td>\n",
       "    </tr>\n",
       "    <tr>\n",
       "      <th>20</th>\n",
       "      <td>Damansara Heights</td>\n",
       "      <td>3.147980</td>\n",
       "      <td>101.667980</td>\n",
       "    </tr>\n",
       "    <tr>\n",
       "      <th>21</th>\n",
       "      <td>Damansara Town Centre</td>\n",
       "      <td>3.138759</td>\n",
       "      <td>101.684046</td>\n",
       "    </tr>\n",
       "    <tr>\n",
       "      <th>22</th>\n",
       "      <td>Damansara, Kuala Lumpur</td>\n",
       "      <td>3.138759</td>\n",
       "      <td>101.684046</td>\n",
       "    </tr>\n",
       "    <tr>\n",
       "      <th>23</th>\n",
       "      <td>Dang Wangi</td>\n",
       "      <td>3.156685</td>\n",
       "      <td>101.698077</td>\n",
       "    </tr>\n",
       "    <tr>\n",
       "      <th>24</th>\n",
       "      <td>Desa Petaling</td>\n",
       "      <td>3.083310</td>\n",
       "      <td>101.704380</td>\n",
       "    </tr>\n",
       "    <tr>\n",
       "      <th>25</th>\n",
       "      <td>Federal Hill, Kuala Lumpur</td>\n",
       "      <td>3.136370</td>\n",
       "      <td>101.685640</td>\n",
       "    </tr>\n",
       "    <tr>\n",
       "      <th>26</th>\n",
       "      <td>Happy Garden</td>\n",
       "      <td>3.201630</td>\n",
       "      <td>101.721070</td>\n",
       "    </tr>\n",
       "    <tr>\n",
       "      <th>27</th>\n",
       "      <td>Jalan Cochrane, Kuala Lumpur</td>\n",
       "      <td>3.132903</td>\n",
       "      <td>101.724678</td>\n",
       "    </tr>\n",
       "    <tr>\n",
       "      <th>28</th>\n",
       "      <td>Jalan Duta</td>\n",
       "      <td>3.180086</td>\n",
       "      <td>101.677854</td>\n",
       "    </tr>\n",
       "    <tr>\n",
       "      <th>29</th>\n",
       "      <td>Jinjang</td>\n",
       "      <td>3.209500</td>\n",
       "      <td>101.658740</td>\n",
       "    </tr>\n",
       "    <tr>\n",
       "      <th>30</th>\n",
       "      <td>Kampung Baru, Kuala Lumpur</td>\n",
       "      <td>3.165460</td>\n",
       "      <td>101.710280</td>\n",
       "    </tr>\n",
       "    <tr>\n",
       "      <th>31</th>\n",
       "      <td>Kampung Datuk Keramat</td>\n",
       "      <td>3.166400</td>\n",
       "      <td>101.730460</td>\n",
       "    </tr>\n",
       "    <tr>\n",
       "      <th>32</th>\n",
       "      <td>Kampung Padang Balang</td>\n",
       "      <td>3.209430</td>\n",
       "      <td>101.693180</td>\n",
       "    </tr>\n",
       "    <tr>\n",
       "      <th>33</th>\n",
       "      <td>Kepong</td>\n",
       "      <td>3.217500</td>\n",
       "      <td>101.637630</td>\n",
       "    </tr>\n",
       "    <tr>\n",
       "      <th>34</th>\n",
       "      <td>KL Eco City</td>\n",
       "      <td>3.117140</td>\n",
       "      <td>101.673880</td>\n",
       "    </tr>\n",
       "    <tr>\n",
       "      <th>35</th>\n",
       "      <td>Kuchai Lama</td>\n",
       "      <td>3.090740</td>\n",
       "      <td>101.677330</td>\n",
       "    </tr>\n",
       "    <tr>\n",
       "      <th>36</th>\n",
       "      <td>Lembah Pantai</td>\n",
       "      <td>3.121202</td>\n",
       "      <td>101.663899</td>\n",
       "    </tr>\n",
       "    <tr>\n",
       "      <th>37</th>\n",
       "      <td>Maluri</td>\n",
       "      <td>3.147890</td>\n",
       "      <td>101.694050</td>\n",
       "    </tr>\n",
       "    <tr>\n",
       "      <th>38</th>\n",
       "      <td>Medan Tuanku</td>\n",
       "      <td>3.159260</td>\n",
       "      <td>101.698340</td>\n",
       "    </tr>\n",
       "    <tr>\n",
       "      <th>39</th>\n",
       "      <td>Miharja</td>\n",
       "      <td>3.147890</td>\n",
       "      <td>101.694050</td>\n",
       "    </tr>\n",
       "    <tr>\n",
       "      <th>40</th>\n",
       "      <td>Mont Kiara</td>\n",
       "      <td>3.165320</td>\n",
       "      <td>101.652430</td>\n",
       "    </tr>\n",
       "    <tr>\n",
       "      <th>41</th>\n",
       "      <td>Pantai Dalam</td>\n",
       "      <td>3.094760</td>\n",
       "      <td>101.667470</td>\n",
       "    </tr>\n",
       "    <tr>\n",
       "      <th>42</th>\n",
       "      <td>Pudu, Kuala Lumpur</td>\n",
       "      <td>3.133540</td>\n",
       "      <td>101.713070</td>\n",
       "    </tr>\n",
       "    <tr>\n",
       "      <th>43</th>\n",
       "      <td>Putrajaya</td>\n",
       "      <td>3.125843</td>\n",
       "      <td>101.718509</td>\n",
       "    </tr>\n",
       "    <tr>\n",
       "      <th>44</th>\n",
       "      <td>Salak South</td>\n",
       "      <td>3.081020</td>\n",
       "      <td>101.697240</td>\n",
       "    </tr>\n",
       "    <tr>\n",
       "      <th>45</th>\n",
       "      <td>Segambut</td>\n",
       "      <td>3.186390</td>\n",
       "      <td>101.668100</td>\n",
       "    </tr>\n",
       "    <tr>\n",
       "      <th>46</th>\n",
       "      <td>Semarak</td>\n",
       "      <td>3.179916</td>\n",
       "      <td>101.721437</td>\n",
       "    </tr>\n",
       "    <tr>\n",
       "      <th>47</th>\n",
       "      <td>Sentul Raya</td>\n",
       "      <td>3.187431</td>\n",
       "      <td>101.691453</td>\n",
       "    </tr>\n",
       "    <tr>\n",
       "      <th>48</th>\n",
       "      <td>Setapak</td>\n",
       "      <td>3.188160</td>\n",
       "      <td>101.704150</td>\n",
       "    </tr>\n",
       "    <tr>\n",
       "      <th>49</th>\n",
       "      <td>Setiawangsa</td>\n",
       "      <td>3.191803</td>\n",
       "      <td>101.740070</td>\n",
       "    </tr>\n",
       "    <tr>\n",
       "      <th>50</th>\n",
       "      <td>Shamelin</td>\n",
       "      <td>3.124580</td>\n",
       "      <td>101.735970</td>\n",
       "    </tr>\n",
       "    <tr>\n",
       "      <th>51</th>\n",
       "      <td>Sri Hartamas</td>\n",
       "      <td>3.162200</td>\n",
       "      <td>101.650360</td>\n",
       "    </tr>\n",
       "    <tr>\n",
       "      <th>52</th>\n",
       "      <td>Sri Petaling</td>\n",
       "      <td>3.072600</td>\n",
       "      <td>101.682520</td>\n",
       "    </tr>\n",
       "    <tr>\n",
       "      <th>53</th>\n",
       "      <td>Sungai Besi</td>\n",
       "      <td>3.049970</td>\n",
       "      <td>101.706030</td>\n",
       "    </tr>\n",
       "    <tr>\n",
       "      <th>54</th>\n",
       "      <td>Taman Bukit Maluri</td>\n",
       "      <td>3.200660</td>\n",
       "      <td>101.633370</td>\n",
       "    </tr>\n",
       "    <tr>\n",
       "      <th>55</th>\n",
       "      <td>Taman Cheras Hartamas</td>\n",
       "      <td>3.082630</td>\n",
       "      <td>101.746710</td>\n",
       "    </tr>\n",
       "    <tr>\n",
       "      <th>56</th>\n",
       "      <td>Taman Connaught</td>\n",
       "      <td>3.082690</td>\n",
       "      <td>101.736890</td>\n",
       "    </tr>\n",
       "    <tr>\n",
       "      <th>57</th>\n",
       "      <td>Taman Desa</td>\n",
       "      <td>3.102970</td>\n",
       "      <td>101.684710</td>\n",
       "    </tr>\n",
       "    <tr>\n",
       "      <th>58</th>\n",
       "      <td>Taman Ibukota</td>\n",
       "      <td>3.212160</td>\n",
       "      <td>101.715400</td>\n",
       "    </tr>\n",
       "    <tr>\n",
       "      <th>59</th>\n",
       "      <td>Taman Len Seng</td>\n",
       "      <td>3.069080</td>\n",
       "      <td>101.742870</td>\n",
       "    </tr>\n",
       "    <tr>\n",
       "      <th>60</th>\n",
       "      <td>Taman Melati</td>\n",
       "      <td>3.223570</td>\n",
       "      <td>101.723990</td>\n",
       "    </tr>\n",
       "    <tr>\n",
       "      <th>61</th>\n",
       "      <td>Taman Midah</td>\n",
       "      <td>3.093590</td>\n",
       "      <td>101.728370</td>\n",
       "    </tr>\n",
       "    <tr>\n",
       "      <th>62</th>\n",
       "      <td>Taman OUG</td>\n",
       "      <td>3.210050</td>\n",
       "      <td>101.634508</td>\n",
       "    </tr>\n",
       "    <tr>\n",
       "      <th>63</th>\n",
       "      <td>Taman P. Ramlee</td>\n",
       "      <td>3.193600</td>\n",
       "      <td>101.705980</td>\n",
       "    </tr>\n",
       "    <tr>\n",
       "      <th>64</th>\n",
       "      <td>Taman Sri Sinar</td>\n",
       "      <td>3.190070</td>\n",
       "      <td>101.652930</td>\n",
       "    </tr>\n",
       "    <tr>\n",
       "      <th>65</th>\n",
       "      <td>Taman Taynton View</td>\n",
       "      <td>3.087070</td>\n",
       "      <td>101.736810</td>\n",
       "    </tr>\n",
       "    <tr>\n",
       "      <th>66</th>\n",
       "      <td>Taman Tun Dr Ismail</td>\n",
       "      <td>3.152830</td>\n",
       "      <td>101.622710</td>\n",
       "    </tr>\n",
       "    <tr>\n",
       "      <th>67</th>\n",
       "      <td>Taman U-Thant</td>\n",
       "      <td>3.157700</td>\n",
       "      <td>101.724520</td>\n",
       "    </tr>\n",
       "    <tr>\n",
       "      <th>68</th>\n",
       "      <td>Taman Wahyu</td>\n",
       "      <td>3.222400</td>\n",
       "      <td>101.671730</td>\n",
       "    </tr>\n",
       "    <tr>\n",
       "      <th>69</th>\n",
       "      <td>Titiwangsa</td>\n",
       "      <td>3.180670</td>\n",
       "      <td>101.703220</td>\n",
       "    </tr>\n",
       "    <tr>\n",
       "      <th>70</th>\n",
       "      <td>Wangsa Maju</td>\n",
       "      <td>3.203910</td>\n",
       "      <td>101.737190</td>\n",
       "    </tr>\n",
       "  </tbody>\n",
       "</table>\n",
       "</div>"
      ],
      "text/plain": [
       "                    Neighborhood  Latitude   Longitude\n",
       "0                     Alam Damai  3.057690  101.743880\n",
       "1           Ampang, Kuala Lumpur  3.148492  101.696727\n",
       "2               Bandar Menjalara  3.190350  101.625450\n",
       "3          Bandar Sri Permaisuri  3.103910  101.712260\n",
       "4           Bandar Tasik Selatan  3.072750  101.714610\n",
       "5               Bandar Tun Razak  3.082800  101.722810\n",
       "6                        Bangsar  3.129200  101.678440\n",
       "7                   Bangsar Park  3.134780  101.672620\n",
       "8                  Bangsar South  3.111020  101.662830\n",
       "9                 Batu 11 Cheras  3.098980  101.734990\n",
       "10            Batu, Kuala Lumpur  3.135760  101.708370\n",
       "11                   Brickfields  3.129160  101.684060\n",
       "12                 Bukit Bintang  3.147770  101.708550\n",
       "13                   Bukit Jalil  3.057800  101.689650\n",
       "14                   Bukit Kiara  3.143480  101.644330\n",
       "15                   Bukit Nanas  3.152017  101.701028\n",
       "16                Bukit Petaling  3.129290  101.698920\n",
       "17                   Bukit Tunku  3.173810  101.682760\n",
       "18          Cheras, Kuala Lumpur  3.061870  101.746750\n",
       "19                      Chow Kit  3.163590  101.698110\n",
       "20             Damansara Heights  3.147980  101.667980\n",
       "21         Damansara Town Centre  3.138759  101.684046\n",
       "22       Damansara, Kuala Lumpur  3.138759  101.684046\n",
       "23                    Dang Wangi  3.156685  101.698077\n",
       "24                 Desa Petaling  3.083310  101.704380\n",
       "25    Federal Hill, Kuala Lumpur  3.136370  101.685640\n",
       "26                  Happy Garden  3.201630  101.721070\n",
       "27  Jalan Cochrane, Kuala Lumpur  3.132903  101.724678\n",
       "28                    Jalan Duta  3.180086  101.677854\n",
       "29                       Jinjang  3.209500  101.658740\n",
       "30    Kampung Baru, Kuala Lumpur  3.165460  101.710280\n",
       "31         Kampung Datuk Keramat  3.166400  101.730460\n",
       "32         Kampung Padang Balang  3.209430  101.693180\n",
       "33                        Kepong  3.217500  101.637630\n",
       "34                   KL Eco City  3.117140  101.673880\n",
       "35                   Kuchai Lama  3.090740  101.677330\n",
       "36                 Lembah Pantai  3.121202  101.663899\n",
       "37                        Maluri  3.147890  101.694050\n",
       "38                  Medan Tuanku  3.159260  101.698340\n",
       "39                       Miharja  3.147890  101.694050\n",
       "40                    Mont Kiara  3.165320  101.652430\n",
       "41                  Pantai Dalam  3.094760  101.667470\n",
       "42            Pudu, Kuala Lumpur  3.133540  101.713070\n",
       "43                     Putrajaya  3.125843  101.718509\n",
       "44                   Salak South  3.081020  101.697240\n",
       "45                      Segambut  3.186390  101.668100\n",
       "46                       Semarak  3.179916  101.721437\n",
       "47                   Sentul Raya  3.187431  101.691453\n",
       "48                       Setapak  3.188160  101.704150\n",
       "49                   Setiawangsa  3.191803  101.740070\n",
       "50                      Shamelin  3.124580  101.735970\n",
       "51                  Sri Hartamas  3.162200  101.650360\n",
       "52                  Sri Petaling  3.072600  101.682520\n",
       "53                   Sungai Besi  3.049970  101.706030\n",
       "54            Taman Bukit Maluri  3.200660  101.633370\n",
       "55         Taman Cheras Hartamas  3.082630  101.746710\n",
       "56               Taman Connaught  3.082690  101.736890\n",
       "57                    Taman Desa  3.102970  101.684710\n",
       "58                 Taman Ibukota  3.212160  101.715400\n",
       "59                Taman Len Seng  3.069080  101.742870\n",
       "60                  Taman Melati  3.223570  101.723990\n",
       "61                   Taman Midah  3.093590  101.728370\n",
       "62                     Taman OUG  3.210050  101.634508\n",
       "63               Taman P. Ramlee  3.193600  101.705980\n",
       "64               Taman Sri Sinar  3.190070  101.652930\n",
       "65            Taman Taynton View  3.087070  101.736810\n",
       "66           Taman Tun Dr Ismail  3.152830  101.622710\n",
       "67                 Taman U-Thant  3.157700  101.724520\n",
       "68                   Taman Wahyu  3.222400  101.671730\n",
       "69                    Titiwangsa  3.180670  101.703220\n",
       "70                   Wangsa Maju  3.203910  101.737190"
      ]
     },
     "execution_count": 56,
     "metadata": {},
     "output_type": "execute_result"
    }
   ],
   "source": [
    "print(kl_df.shape)\n",
    "kl_df"
   ]
  },
  {
   "cell_type": "code",
   "execution_count": 57,
   "metadata": {},
   "outputs": [],
   "source": [
    "kl_df.to_csv(\"kl_df.csv\", index=False)"
   ]
  },
  {
   "cell_type": "markdown",
   "metadata": {},
   "source": [
    "### 4. Create a map of Kuala Lumpur with neighborhoods superimposed on top"
   ]
  },
  {
   "cell_type": "code",
   "execution_count": 58,
   "metadata": {},
   "outputs": [
    {
     "name": "stdout",
     "output_type": "stream",
     "text": [
      "The geograpical coordinate of Kuala Lumpur, Malaysiae 3.1516636, 101.6943028.\n"
     ]
    }
   ],
   "source": [
    "address = 'Kuala Lumpur, Malaysia'\n",
    "\n",
    "geolocator = Nominatim(user_agent=\"my-application\")\n",
    "location = geolocator.geocode(address)\n",
    "latitude = location.latitude\n",
    "longitude = location.longitude\n",
    "print('The geograpical coordinate of Kuala Lumpur, Malaysiae {}, {}.'.format(latitude, longitude))"
   ]
  },
  {
   "cell_type": "code",
   "execution_count": 60,
   "metadata": {},
   "outputs": [
    {
     "data": {
      "text/html": [
       "<div style=\"width:100%;\"><div style=\"position:relative;width:100%;height:0;padding-bottom:60%;\"><iframe src=\"data:text/html;charset=utf-8;base64,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\" style=\"position:absolute;width:100%;height:100%;left:0;top:0;border:none !important;\" allowfullscreen webkitallowfullscreen mozallowfullscreen></iframe></div></div>"
      ],
      "text/plain": [
       "<folium.folium.Map at 0x7f593a6e6358>"
      ]
     },
     "execution_count": 60,
     "metadata": {},
     "output_type": "execute_result"
    }
   ],
   "source": [
    "map_kl = folium.Map(location=[latitude, longitude], zoom_start=11)\n",
    "\n",
    "\n",
    "for lat, lng, neighborhood in zip(kl_df['Latitude'], kl_df['Longitude'], kl_df['Neighborhood']):\n",
    "    label = '{}'.format(neighborhood)\n",
    "    label = folium.Popup(label, parse_html=True)\n",
    "    folium.CircleMarker(\n",
    "        [lat, lng],\n",
    "        radius=5,\n",
    "        popup=label,\n",
    "        color='blue',\n",
    "        fill=True,\n",
    "        fill_color='#3186cc',\n",
    "        fill_opacity=0.7).add_to(map_kl)  \n",
    "    \n",
    "map_kl"
   ]
  },
  {
   "cell_type": "code",
   "execution_count": 61,
   "metadata": {},
   "outputs": [],
   "source": [
    "map_kl.save('map_kl.html')"
   ]
  },
  {
   "cell_type": "markdown",
   "metadata": {},
   "source": [
    "### 5. Use the Foursquare API to explore the neighborhoods"
   ]
  },
  {
   "cell_type": "code",
   "execution_count": 62,
   "metadata": {},
   "outputs": [
    {
     "name": "stdout",
     "output_type": "stream",
     "text": [
      "Your credentails:\n",
      "CLIENT_ID: your Foursquare ID\n",
      "CLIENT_SECRET:your Foursquare Secret\n"
     ]
    }
   ],
   "source": [
    "CLIENT_ID = 'your Foursquare ID' # your Foursquare ID\n",
    "CLIENT_SECRET = 'your Foursquare Secret' # your Foursquare Secret\n",
    "VERSION = '20180605' # Foursquare API version\n",
    "\n",
    "print('Your credentails:')\n",
    "print('CLIENT_ID: ' + CLIENT_ID)\n",
    "print('CLIENT_SECRET:' + CLIENT_SECRET)"
   ]
  },
  {
   "cell_type": "code",
   "execution_count": 79,
   "metadata": {},
   "outputs": [],
   "source": [
    "from collections import defaultdict"
   ]
  },
  {
   "cell_type": "code",
   "execution_count": 80,
   "metadata": {},
   "outputs": [],
   "source": [
    "results = defaultdict(list)"
   ]
  },
  {
   "cell_type": "code",
   "execution_count": 82,
   "metadata": {},
   "outputs": [
    {
     "ename": "KeyError",
     "evalue": "'groups'",
     "output_type": "error",
     "traceback": [
      "\u001b[0;31m---------------------------------------------------------------------------\u001b[0m",
      "\u001b[0;31mKeyError\u001b[0m                                  Traceback (most recent call last)",
      "\u001b[0;32m<ipython-input-82-7fbba34d8429>\u001b[0m in \u001b[0;36m<module>\u001b[0;34m\u001b[0m\n\u001b[1;32m     17\u001b[0m \u001b[0;34m\u001b[0m\u001b[0m\n\u001b[1;32m     18\u001b[0m     \u001b[0;31m# make the GET request\u001b[0m\u001b[0;34m\u001b[0m\u001b[0;34m\u001b[0m\u001b[0;34m\u001b[0m\u001b[0m\n\u001b[0;32m---> 19\u001b[0;31m     \u001b[0mresults\u001b[0m \u001b[0;34m=\u001b[0m \u001b[0mrequests\u001b[0m\u001b[0;34m.\u001b[0m\u001b[0mget\u001b[0m\u001b[0;34m(\u001b[0m\u001b[0murl\u001b[0m\u001b[0;34m)\u001b[0m\u001b[0;34m.\u001b[0m\u001b[0mjson\u001b[0m\u001b[0;34m(\u001b[0m\u001b[0;34m)\u001b[0m\u001b[0;34m[\u001b[0m\u001b[0;34m\"response\"\u001b[0m\u001b[0;34m]\u001b[0m\u001b[0;34m[\u001b[0m\u001b[0;34m'groups'\u001b[0m\u001b[0;34m]\u001b[0m\u001b[0;34m[\u001b[0m\u001b[0;36m0\u001b[0m\u001b[0;34m]\u001b[0m\u001b[0;34m[\u001b[0m\u001b[0;34m'items'\u001b[0m\u001b[0;34m]\u001b[0m\u001b[0;34m\u001b[0m\u001b[0;34m\u001b[0m\u001b[0m\n\u001b[0m\u001b[1;32m     20\u001b[0m \u001b[0;34m\u001b[0m\u001b[0m\n\u001b[1;32m     21\u001b[0m     \u001b[0;31m# return only relevant information for each nearby venue\u001b[0m\u001b[0;34m\u001b[0m\u001b[0;34m\u001b[0m\u001b[0;34m\u001b[0m\u001b[0m\n",
      "\u001b[0;31mKeyError\u001b[0m: 'groups'"
     ]
    }
   ],
   "source": [
    "radius = 2000\n",
    "LIMIT = 100\n",
    "\n",
    "venues = []\n",
    "\n",
    "for lat, long, neighborhood in zip(kl_df['Latitude'], kl_df['Longitude'], kl_df['Neighborhood']):\n",
    "    \n",
    "    # create the API request URL\n",
    "    url = \"https://api.foursquare.com/v2/venues/explore?client_id={}&client_secret={}&v={}&ll={},{}&radius={}&limit={}\".format(\n",
    "        CLIENT_ID,\n",
    "        CLIENT_SECRET,\n",
    "        VERSION,\n",
    "        lat,\n",
    "        long,\n",
    "        radius, \n",
    "        LIMIT)\n",
    "    \n",
    "    # make the GET request\n",
    "    results = requests.get(url).json()[\"response\"]['groups'][0]['items']\n",
    "    \n",
    "    # return only relevant information for each nearby venue\n",
    "    for venue in results:\n",
    "        venues.append((\n",
    "            neighborhood,\n",
    "            lat, \n",
    "            long, \n",
    "            venue['venue']['name'], \n",
    "            venue['venue']['location']['lat'], \n",
    "            venue['venue']['location']['lng'],  \n",
    "            venue['venue']['categories'][0]['name']))"
   ]
  },
  {
   "cell_type": "code",
   "execution_count": 77,
   "metadata": {},
   "outputs": [
    {
     "ename": "ValueError",
     "evalue": "Length mismatch: Expected axis has 0 elements, new values have 7 elements",
     "output_type": "error",
     "traceback": [
      "\u001b[0;31m---------------------------------------------------------------------------\u001b[0m",
      "\u001b[0;31mValueError\u001b[0m                                Traceback (most recent call last)",
      "\u001b[0;32m<ipython-input-77-7dc62e41df1d>\u001b[0m in \u001b[0;36m<module>\u001b[0;34m\u001b[0m\n\u001b[1;32m      2\u001b[0m \u001b[0;34m\u001b[0m\u001b[0m\n\u001b[1;32m      3\u001b[0m \u001b[0;31m# define the column names\u001b[0m\u001b[0;34m\u001b[0m\u001b[0;34m\u001b[0m\u001b[0;34m\u001b[0m\u001b[0m\n\u001b[0;32m----> 4\u001b[0;31m \u001b[0mvenues_df\u001b[0m\u001b[0;34m.\u001b[0m\u001b[0mcolumns\u001b[0m \u001b[0;34m=\u001b[0m \u001b[0;34m[\u001b[0m\u001b[0;34m'Neighborhood'\u001b[0m\u001b[0;34m,\u001b[0m \u001b[0;34m'Latitude'\u001b[0m\u001b[0;34m,\u001b[0m \u001b[0;34m'Longitude'\u001b[0m\u001b[0;34m,\u001b[0m \u001b[0;34m'VenueName'\u001b[0m\u001b[0;34m,\u001b[0m \u001b[0;34m'VenueLatitude'\u001b[0m\u001b[0;34m,\u001b[0m \u001b[0;34m'VenueLongitude'\u001b[0m\u001b[0;34m,\u001b[0m \u001b[0;34m'VenueCategory'\u001b[0m\u001b[0;34m]\u001b[0m\u001b[0;34m\u001b[0m\u001b[0;34m\u001b[0m\u001b[0m\n\u001b[0m\u001b[1;32m      5\u001b[0m \u001b[0;34m\u001b[0m\u001b[0m\n\u001b[1;32m      6\u001b[0m \u001b[0mprint\u001b[0m\u001b[0;34m(\u001b[0m\u001b[0mvenues_df\u001b[0m\u001b[0;34m.\u001b[0m\u001b[0mshape\u001b[0m\u001b[0;34m)\u001b[0m\u001b[0;34m\u001b[0m\u001b[0;34m\u001b[0m\u001b[0m\n",
      "\u001b[0;32m~/conda/envs/python/lib/python3.6/site-packages/pandas/core/generic.py\u001b[0m in \u001b[0;36m__setattr__\u001b[0;34m(self, name, value)\u001b[0m\n\u001b[1;32m   5190\u001b[0m         \u001b[0;32mtry\u001b[0m\u001b[0;34m:\u001b[0m\u001b[0;34m\u001b[0m\u001b[0;34m\u001b[0m\u001b[0m\n\u001b[1;32m   5191\u001b[0m             \u001b[0mobject\u001b[0m\u001b[0;34m.\u001b[0m\u001b[0m__getattribute__\u001b[0m\u001b[0;34m(\u001b[0m\u001b[0mself\u001b[0m\u001b[0;34m,\u001b[0m \u001b[0mname\u001b[0m\u001b[0;34m)\u001b[0m\u001b[0;34m\u001b[0m\u001b[0;34m\u001b[0m\u001b[0m\n\u001b[0;32m-> 5192\u001b[0;31m             \u001b[0;32mreturn\u001b[0m \u001b[0mobject\u001b[0m\u001b[0;34m.\u001b[0m\u001b[0m__setattr__\u001b[0m\u001b[0;34m(\u001b[0m\u001b[0mself\u001b[0m\u001b[0;34m,\u001b[0m \u001b[0mname\u001b[0m\u001b[0;34m,\u001b[0m \u001b[0mvalue\u001b[0m\u001b[0;34m)\u001b[0m\u001b[0;34m\u001b[0m\u001b[0;34m\u001b[0m\u001b[0m\n\u001b[0m\u001b[1;32m   5193\u001b[0m         \u001b[0;32mexcept\u001b[0m \u001b[0mAttributeError\u001b[0m\u001b[0;34m:\u001b[0m\u001b[0;34m\u001b[0m\u001b[0;34m\u001b[0m\u001b[0m\n\u001b[1;32m   5194\u001b[0m             \u001b[0;32mpass\u001b[0m\u001b[0;34m\u001b[0m\u001b[0;34m\u001b[0m\u001b[0m\n",
      "\u001b[0;32mpandas/_libs/properties.pyx\u001b[0m in \u001b[0;36mpandas._libs.properties.AxisProperty.__set__\u001b[0;34m()\u001b[0m\n",
      "\u001b[0;32m~/conda/envs/python/lib/python3.6/site-packages/pandas/core/generic.py\u001b[0m in \u001b[0;36m_set_axis\u001b[0;34m(self, axis, labels)\u001b[0m\n\u001b[1;32m    688\u001b[0m \u001b[0;34m\u001b[0m\u001b[0m\n\u001b[1;32m    689\u001b[0m     \u001b[0;32mdef\u001b[0m \u001b[0m_set_axis\u001b[0m\u001b[0;34m(\u001b[0m\u001b[0mself\u001b[0m\u001b[0;34m,\u001b[0m \u001b[0maxis\u001b[0m\u001b[0;34m,\u001b[0m \u001b[0mlabels\u001b[0m\u001b[0;34m)\u001b[0m\u001b[0;34m:\u001b[0m\u001b[0;34m\u001b[0m\u001b[0;34m\u001b[0m\u001b[0m\n\u001b[0;32m--> 690\u001b[0;31m         \u001b[0mself\u001b[0m\u001b[0;34m.\u001b[0m\u001b[0m_data\u001b[0m\u001b[0;34m.\u001b[0m\u001b[0mset_axis\u001b[0m\u001b[0;34m(\u001b[0m\u001b[0maxis\u001b[0m\u001b[0;34m,\u001b[0m \u001b[0mlabels\u001b[0m\u001b[0;34m)\u001b[0m\u001b[0;34m\u001b[0m\u001b[0;34m\u001b[0m\u001b[0m\n\u001b[0m\u001b[1;32m    691\u001b[0m         \u001b[0mself\u001b[0m\u001b[0;34m.\u001b[0m\u001b[0m_clear_item_cache\u001b[0m\u001b[0;34m(\u001b[0m\u001b[0;34m)\u001b[0m\u001b[0;34m\u001b[0m\u001b[0;34m\u001b[0m\u001b[0m\n\u001b[1;32m    692\u001b[0m \u001b[0;34m\u001b[0m\u001b[0m\n",
      "\u001b[0;32m~/conda/envs/python/lib/python3.6/site-packages/pandas/core/internals/managers.py\u001b[0m in \u001b[0;36mset_axis\u001b[0;34m(self, axis, new_labels)\u001b[0m\n\u001b[1;32m    181\u001b[0m             raise ValueError(\n\u001b[1;32m    182\u001b[0m                 \u001b[0;34m\"Length mismatch: Expected axis has {old} elements, new \"\u001b[0m\u001b[0;34m\u001b[0m\u001b[0;34m\u001b[0m\u001b[0m\n\u001b[0;32m--> 183\u001b[0;31m                 \u001b[0;34m\"values have {new} elements\"\u001b[0m\u001b[0;34m.\u001b[0m\u001b[0mformat\u001b[0m\u001b[0;34m(\u001b[0m\u001b[0mold\u001b[0m\u001b[0;34m=\u001b[0m\u001b[0mold_len\u001b[0m\u001b[0;34m,\u001b[0m \u001b[0mnew\u001b[0m\u001b[0;34m=\u001b[0m\u001b[0mnew_len\u001b[0m\u001b[0;34m)\u001b[0m\u001b[0;34m\u001b[0m\u001b[0;34m\u001b[0m\u001b[0m\n\u001b[0m\u001b[1;32m    184\u001b[0m             )\n\u001b[1;32m    185\u001b[0m \u001b[0;34m\u001b[0m\u001b[0m\n",
      "\u001b[0;31mValueError\u001b[0m: Length mismatch: Expected axis has 0 elements, new values have 7 elements"
     ]
    }
   ],
   "source": [
    "venues_df = pd.DataFrame(venues)\n",
    "\n",
    "# define the column names\n",
    "venues_df.columns = ['Neighborhood', 'Latitude', 'Longitude', 'VenueName', 'VenueLatitude', 'VenueLongitude', 'VenueCategory']\n",
    "\n",
    "print(venues_df.shape)\n",
    "venues_df.head()"
   ]
  },
  {
   "cell_type": "code",
   "execution_count": null,
   "metadata": {},
   "outputs": [],
   "source": []
  }
 ],
 "metadata": {
  "kernelspec": {
   "display_name": "Python",
   "language": "python",
   "name": "conda-env-python-py"
  },
  "language_info": {
   "codemirror_mode": {
    "name": "ipython",
    "version": 3
   },
   "file_extension": ".py",
   "mimetype": "text/x-python",
   "name": "python",
   "nbconvert_exporter": "python",
   "pygments_lexer": "ipython3",
   "version": "3.6.7"
  }
 },
 "nbformat": 4,
 "nbformat_minor": 4
}
